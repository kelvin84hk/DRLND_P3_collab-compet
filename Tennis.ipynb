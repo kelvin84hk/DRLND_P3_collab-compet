{
 "cells": [
  {
   "cell_type": "markdown",
   "metadata": {},
   "source": [
    "# Collaboration and Competition\n",
    "\n",
    "---\n",
    "\n",
    "In this notebook, you will learn how to use the Unity ML-Agents environment for the third project of the [Deep Reinforcement Learning Nanodegree](https://www.udacity.com/course/deep-reinforcement-learning-nanodegree--nd893) program.\n",
    "\n",
    "### 1. Start the Environment\n",
    "\n",
    "We begin by importing the necessary packages.  If the code cell below returns an error, please revisit the project instructions to double-check that you have installed [Unity ML-Agents](https://github.com/Unity-Technologies/ml-agents/blob/master/docs/Installation.md) and [NumPy](http://www.numpy.org/)."
   ]
  },
  {
   "cell_type": "code",
   "execution_count": 1,
   "metadata": {
    "collapsed": true
   },
   "outputs": [],
   "source": [
    "from unityagents import UnityEnvironment\n",
    "import numpy as np\n",
    "from collections import deque\n",
    "import torch\n",
    "import matplotlib.pyplot as plt\n",
    "%matplotlib inline\n",
    "from p3_mad4pg import MAD4PG"
   ]
  },
  {
   "cell_type": "markdown",
   "metadata": {},
   "source": [
    "Next, we will start the environment!  **_Before running the code cell below_**, change the `file_name` parameter to match the location of the Unity environment that you downloaded.\n",
    "\n",
    "- **Mac**: `\"path/to/Tennis.app\"`\n",
    "- **Windows** (x86): `\"path/to/Tennis_Windows_x86/Tennis.exe\"`\n",
    "- **Windows** (x86_64): `\"path/to/Tennis_Windows_x86_64/Tennis.exe\"`\n",
    "- **Linux** (x86): `\"path/to/Tennis_Linux/Tennis.x86\"`\n",
    "- **Linux** (x86_64): `\"path/to/Tennis_Linux/Tennis.x86_64\"`\n",
    "- **Linux** (x86, headless): `\"path/to/Tennis_Linux_NoVis/Tennis.x86\"`\n",
    "- **Linux** (x86_64, headless): `\"path/to/Tennis_Linux_NoVis/Tennis.x86_64\"`\n",
    "\n",
    "For instance, if you are using a Mac, then you downloaded `Tennis.app`.  If this file is in the same folder as the notebook, then the line below should appear as follows:\n",
    "```\n",
    "env = UnityEnvironment(file_name=\"Tennis.app\")\n",
    "```"
   ]
  },
  {
   "cell_type": "code",
   "execution_count": 2,
   "metadata": {},
   "outputs": [
    {
     "name": "stderr",
     "output_type": "stream",
     "text": [
      "INFO:unityagents:\n",
      "'Academy' started successfully!\n",
      "Unity Academy name: Academy\n",
      "        Number of Brains: 1\n",
      "        Number of External Brains : 1\n",
      "        Lesson number : 0\n",
      "        Reset Parameters :\n",
      "\t\t\n",
      "Unity brain name: TennisBrain\n",
      "        Number of Visual Observations (per agent): 0\n",
      "        Vector Observation space type: continuous\n",
      "        Vector Observation space size (per agent): 8\n",
      "        Number of stacked Vector Observation: 3\n",
      "        Vector Action space type: continuous\n",
      "        Vector Action space size (per agent): 2\n",
      "        Vector Action descriptions: , \n"
     ]
    }
   ],
   "source": [
    "env = UnityEnvironment(file_name=\".\\Tennis_Windows_x86_64\\Tennis.exe\")"
   ]
  },
  {
   "cell_type": "markdown",
   "metadata": {},
   "source": [
    "Environments contain **_brains_** which are responsible for deciding the actions of their associated agents. Here we check for the first brain available, and set it as the default brain we will be controlling from Python."
   ]
  },
  {
   "cell_type": "code",
   "execution_count": 3,
   "metadata": {
    "collapsed": true
   },
   "outputs": [],
   "source": [
    "# get the default brain\n",
    "brain_name = env.brain_names[0]\n",
    "brain = env.brains[brain_name]"
   ]
  },
  {
   "cell_type": "markdown",
   "metadata": {},
   "source": [
    "### 2. Examine the State and Action Spaces\n",
    "\n",
    "In this environment, two agents control rackets to bounce a ball over a net. If an agent hits the ball over the net, it receives a reward of +0.1.  If an agent lets a ball hit the ground or hits the ball out of bounds, it receives a reward of -0.01.  Thus, the goal of each agent is to keep the ball in play.\n",
    "\n",
    "The observation space consists of 8 variables corresponding to the position and velocity of the ball and racket. Two continuous actions are available, corresponding to movement toward (or away from) the net, and jumping. \n",
    "\n",
    "Run the code cell below to print some information about the environment."
   ]
  },
  {
   "cell_type": "code",
   "execution_count": 4,
   "metadata": {},
   "outputs": [
    {
     "name": "stdout",
     "output_type": "stream",
     "text": [
      "Number of agents: 2\n",
      "Size of each action: 2\n",
      "There are 2 agents. Each observes a state with length: 24\n",
      "The state for the first agent looks like: [ 0.          0.          0.          0.          0.          0.          0.\n",
      "  0.          0.          0.          0.          0.          0.          0.\n",
      "  0.          0.         -6.65278625 -1.5        -0.          0.\n",
      "  6.83172083  6.         -0.          0.        ]\n"
     ]
    }
   ],
   "source": [
    "# reset the environment\n",
    "env_info = env.reset(train_mode=True)[brain_name]\n",
    "\n",
    "# number of agents \n",
    "num_agents = len(env_info.agents)\n",
    "print('Number of agents:', num_agents)\n",
    "\n",
    "# size of each action\n",
    "action_size = brain.vector_action_space_size\n",
    "print('Size of each action:', action_size)\n",
    "\n",
    "# examine the state space \n",
    "states = env_info.vector_observations\n",
    "state_size = states.shape[1]\n",
    "print('There are {} agents. Each observes a state with length: {}'.format(states.shape[0], state_size))\n",
    "print('The state for the first agent looks like:', states[0])"
   ]
  },
  {
   "cell_type": "markdown",
   "metadata": {},
   "source": [
    "### 3. Take Random Actions in the Environment\n",
    "\n",
    "In the next code cell, you will learn how to use the Python API to control the agents and receive feedback from the environment.\n",
    "\n",
    "Once this cell is executed, you will watch the agents' performance, if they select actions at random with each time step.  A window should pop up that allows you to observe the agents.\n",
    "\n",
    "Of course, as part of the project, you'll have to change the code so that the agents are able to use their experiences to gradually choose better actions when interacting with the environment!"
   ]
  },
  {
   "cell_type": "code",
   "execution_count": 5,
   "metadata": {},
   "outputs": [
    {
     "name": "stdout",
     "output_type": "stream",
     "text": [
      "Score (max over agents) from episode 1: 0.0\n",
      "Score (max over agents) from episode 2: 0.0\n",
      "Score (max over agents) from episode 3: 0.0\n",
      "Score (max over agents) from episode 4: 0.10000000149011612\n",
      "Score (max over agents) from episode 5: 0.0\n"
     ]
    }
   ],
   "source": [
    "for i in range(1, 6):                                      # play game for 5 episodes\n",
    "    env_info = env.reset(train_mode=False)[brain_name]     # reset the environment    \n",
    "    states = env_info.vector_observations                  # get the current state (for each agent)\n",
    "    scores = np.zeros(num_agents)                          # initialize the score (for each agent)\n",
    "    while True:\n",
    "        actions = np.random.randn(num_agents, action_size) # select an action (for each agent)\n",
    "        actions = np.clip(actions, -1, 1)                  # all actions between -1 and 1\n",
    "        env_info = env.step(actions)[brain_name]           # send all actions to tne environment\n",
    "        next_states = env_info.vector_observations         # get next state (for each agent)\n",
    "        rewards = env_info.rewards                         # get reward (for each agent)\n",
    "        dones = env_info.local_done                        # see if episode finished\n",
    "        scores += env_info.rewards                         # update the score (for each agent)\n",
    "        states = next_states                               # roll over states to next time step\n",
    "        if np.any(dones):                                  # exit loop if episode finished\n",
    "            break\n",
    "    print('Score (max over agents) from episode {}: {}'.format(i, np.max(scores)))"
   ]
  },
  {
   "cell_type": "markdown",
   "metadata": {},
   "source": [
    "When finished, you can close the environment."
   ]
  },
  {
   "cell_type": "code",
   "execution_count": 6,
   "metadata": {
    "collapsed": true
   },
   "outputs": [],
   "source": [
    "env.close()"
   ]
  },
  {
   "cell_type": "markdown",
   "metadata": {},
   "source": [
    "### 4. It's Your Turn!\n",
    "\n",
    "Now it's your turn to train your own agent to solve the environment!  When training the environment, set `train_mode=True`, so that the line for resetting the environment looks like the following:\n",
    "```python\n",
    "env_info = env.reset(train_mode=True)[brain_name]\n",
    "```"
   ]
  },
  {
   "cell_type": "code",
   "execution_count": 2,
   "metadata": {
    "collapsed": true
   },
   "outputs": [],
   "source": [
    "def train(check_pt_path,n_episodes=10000,isSolve=True):\n",
    "    \"\"\"Learning.\n",
    "    \n",
    "    Params\n",
    "    ======\n",
    "        n_episodes (int): maximum number of training episodes\n",
    "        max_t (int): maximum number of timesteps per episode\n",
    "        eps_start (float): starting value of epsilon, for epsilon-greedy action selection\n",
    "        eps_end (float): minimum value of epsilon\n",
    "        eps_decay (float): multiplicative factor (per episode) for decreasing epsilon\n",
    "    \"\"\"\n",
    "    env=None\n",
    "    env = UnityEnvironment(file_name='.\\Tennis_Windows_x86_64\\Tennis.exe')\n",
    "    brain_name = env.brain_names[0]\n",
    "    brain = env.brains[brain_name]\n",
    "    \n",
    "    avgscores=[]\n",
    "    scores=[]\n",
    "    scores1 = []\n",
    "    scores2 = []# list containing scores from each episode\n",
    "    scores_window = deque(maxlen=100)  # last 100 scores\n",
    "    for i_episode in range(1, n_episodes+1):\n",
    "        env_info = env.reset(train_mode=True)[brain_name]\n",
    "        states= env_info.vector_observations\n",
    "        score1 = 0\n",
    "        score2 = 0\n",
    "        while True:\n",
    "            actions = multiagent.acts(states)\n",
    "            env_info=env.step(actions)[brain_name]\n",
    "            next_states = env_info.vector_observations\n",
    "            rewards = env_info.rewards\n",
    "            dones = env_info.local_done\n",
    "            multiagent.step(states,actions, rewards, next_states, dones)\n",
    "            states = next_states\n",
    "            score1 += rewards[0]\n",
    "            score2 += rewards[1]\n",
    "            if dones[0]:\n",
    "                break\n",
    "\n",
    "        score=max(score1,score2)        \n",
    "        scores_window.append(score)       # save most recent score\n",
    "        scores.append(score)              # save most recent score\n",
    "        scores1.append(score1)\n",
    "        scores2.append(score2)\n",
    "        print('\\rEpisode {}\\tAverage Score: {:.2f}'.format(i_episode, np.mean(scores_window)), end=\"\")\n",
    "        if i_episode % 100 == 0:\n",
    "            print('\\rEpisode {}\\tAverage Score: {:.2f}'.format(i_episode, np.mean(scores_window)))\n",
    "            avgscores.append(np.mean(scores_window))\n",
    "        if np.mean(scores_window)>0.5 and isSolve:\n",
    "            print('\\nEnvironment solved in {:d} episodes!\\tAverage Score: {:.2f}'.format(i_episode-100, np.mean(scores_window)))\n",
    "            torch.save(multiagent.mad4pg_agent[0].actor_local.state_dict(),check_pt_path+'_actor1_solved.pth')\n",
    "            torch.save(multiagent.mad4pg_agent[1].actor_local.state_dict(),check_pt_path+'_actor2_solved.pth')\n",
    "            isSolve=False\n",
    "    env.close()\n",
    "    torch.save(multiagent.mad4pg_agent[0].actor_local.state_dict(),check_pt_path+'_actor1_last.pth')\n",
    "    torch.save(multiagent.mad4pg_agent[1].actor_local.state_dict(),check_pt_path+'_actor2_last.pth')\n",
    "    return scores,scores1,scores2\n"
   ]
  },
  {
   "cell_type": "code",
   "execution_count": 3,
   "metadata": {
    "scrolled": false
   },
   "outputs": [
    {
     "name": "stderr",
     "output_type": "stream",
     "text": [
      "INFO:unityagents:\n",
      "'Academy' started successfully!\n",
      "Unity Academy name: Academy\n",
      "        Number of Brains: 1\n",
      "        Number of External Brains : 1\n",
      "        Lesson number : 0\n",
      "        Reset Parameters :\n",
      "\t\t\n",
      "Unity brain name: TennisBrain\n",
      "        Number of Visual Observations (per agent): 0\n",
      "        Vector Observation space type: continuous\n",
      "        Vector Observation space size (per agent): 8\n",
      "        Number of stacked Vector Observation: 3\n",
      "        Vector Action space type: continuous\n",
      "        Vector Action space size (per agent): 2\n",
      "        Vector Action descriptions: , \n"
     ]
    },
    {
     "name": "stdout",
     "output_type": "stream",
     "text": [
      "Episode 100\tAverage Score: 0.01\n",
      "Episode 200\tAverage Score: 0.01\n",
      "Episode 300\tAverage Score: 0.02\n",
      "Episode 400\tAverage Score: 0.08\n",
      "Episode 500\tAverage Score: 0.00\n",
      "Episode 600\tAverage Score: 0.00\n",
      "Episode 700\tAverage Score: 0.00\n",
      "Episode 800\tAverage Score: 0.00\n",
      "Episode 900\tAverage Score: 0.00\n",
      "Episode 1000\tAverage Score: 0.02\n",
      "Episode 1100\tAverage Score: 0.04\n",
      "Episode 1200\tAverage Score: 0.01\n",
      "Episode 1300\tAverage Score: 0.00\n",
      "Episode 1400\tAverage Score: 0.01\n",
      "Episode 1500\tAverage Score: 0.01\n",
      "Episode 1600\tAverage Score: 0.01\n",
      "Episode 1700\tAverage Score: 0.02\n",
      "Episode 1800\tAverage Score: 0.04\n",
      "Episode 1900\tAverage Score: 0.04\n",
      "Episode 2000\tAverage Score: 0.05\n",
      "Episode 2100\tAverage Score: 0.06\n",
      "Episode 2200\tAverage Score: 0.10\n",
      "Episode 2300\tAverage Score: 0.09\n",
      "Episode 2400\tAverage Score: 0.09\n",
      "Episode 2500\tAverage Score: 0.09\n",
      "Episode 2600\tAverage Score: 0.09\n",
      "Episode 2700\tAverage Score: 0.12\n",
      "Episode 2800\tAverage Score: 0.10\n",
      "Episode 2900\tAverage Score: 0.07\n",
      "Episode 3000\tAverage Score: 0.04\n",
      "Episode 3100\tAverage Score: 0.03\n",
      "Episode 3200\tAverage Score: 0.06\n",
      "Episode 3300\tAverage Score: 0.08\n",
      "Episode 3400\tAverage Score: 0.06\n",
      "Episode 3500\tAverage Score: 0.06\n",
      "Episode 3600\tAverage Score: 0.06\n",
      "Episode 3700\tAverage Score: 0.07\n",
      "Episode 3800\tAverage Score: 0.09\n",
      "Episode 3900\tAverage Score: 0.09\n",
      "Episode 4000\tAverage Score: 0.11\n",
      "Episode 4100\tAverage Score: 0.11\n",
      "Episode 4200\tAverage Score: 0.11\n",
      "Episode 4300\tAverage Score: 0.11\n",
      "Episode 4400\tAverage Score: 0.14\n",
      "Episode 4500\tAverage Score: 0.13\n",
      "Episode 4600\tAverage Score: 0.14\n",
      "Episode 4700\tAverage Score: 0.13\n",
      "Episode 4800\tAverage Score: 0.18\n",
      "Episode 4900\tAverage Score: 0.16\n",
      "Episode 5000\tAverage Score: 0.18\n",
      "Episode 5100\tAverage Score: 0.15\n",
      "Episode 5200\tAverage Score: 0.14\n",
      "Episode 5300\tAverage Score: 0.16\n",
      "Episode 5400\tAverage Score: 0.17\n",
      "Episode 5500\tAverage Score: 0.17\n",
      "Episode 5600\tAverage Score: 0.19\n",
      "Episode 5700\tAverage Score: 0.17\n",
      "Episode 5800\tAverage Score: 0.16\n",
      "Episode 5900\tAverage Score: 0.16\n",
      "Episode 6000\tAverage Score: 0.19\n",
      "Episode 6100\tAverage Score: 0.14\n",
      "Episode 6200\tAverage Score: 0.18\n",
      "Episode 6300\tAverage Score: 0.27\n",
      "Episode 6400\tAverage Score: 0.20\n",
      "Episode 6500\tAverage Score: 0.18\n",
      "Episode 6600\tAverage Score: 0.17\n",
      "Episode 6700\tAverage Score: 0.19\n",
      "Episode 6800\tAverage Score: 0.16\n",
      "Episode 6900\tAverage Score: 0.12\n",
      "Episode 7000\tAverage Score: 0.18\n",
      "Episode 7100\tAverage Score: 0.23\n",
      "Episode 7200\tAverage Score: 0.20\n",
      "Episode 7300\tAverage Score: 0.23\n",
      "Episode 7400\tAverage Score: 0.22\n",
      "Episode 7500\tAverage Score: 0.17\n",
      "Episode 7600\tAverage Score: 0.26\n",
      "Episode 7700\tAverage Score: 0.30\n",
      "Episode 7800\tAverage Score: 0.33\n",
      "Episode 7900\tAverage Score: 0.26\n",
      "Episode 8000\tAverage Score: 0.30\n",
      "Episode 8100\tAverage Score: 0.29\n",
      "Episode 8200\tAverage Score: 0.40\n",
      "Episode 8235\tAverage Score: 0.52\n",
      "Environment solved in 8135 episodes!\tAverage Score: 0.52\n",
      "Episode 8300\tAverage Score: 0.58\n",
      "Episode 8400\tAverage Score: 0.44\n",
      "Episode 8500\tAverage Score: 0.73\n",
      "Episode 8600\tAverage Score: 0.56\n",
      "Episode 8700\tAverage Score: 0.74\n",
      "Episode 8800\tAverage Score: 1.00\n",
      "Episode 8900\tAverage Score: 1.51\n",
      "Episode 9000\tAverage Score: 1.73\n",
      "Episode 9100\tAverage Score: 1.44\n",
      "Episode 9200\tAverage Score: 1.53\n",
      "Episode 9300\tAverage Score: 1.31\n",
      "Episode 9400\tAverage Score: 1.17\n",
      "Episode 9500\tAverage Score: 0.70\n",
      "Episode 9600\tAverage Score: 0.64\n",
      "Episode 9700\tAverage Score: 0.46\n",
      "Episode 9800\tAverage Score: 0.22\n",
      "Episode 9900\tAverage Score: 0.21\n",
      "Episode 10000\tAverage Score: 0.49\n",
      "Episode 10100\tAverage Score: 0.43\n",
      "Episode 10200\tAverage Score: 0.36\n",
      "Episode 10300\tAverage Score: 0.50\n",
      "Episode 10400\tAverage Score: 0.81\n",
      "Episode 10500\tAverage Score: 1.20\n",
      "Episode 10600\tAverage Score: 1.20\n",
      "Episode 10700\tAverage Score: 1.19\n",
      "Episode 10800\tAverage Score: 1.22\n",
      "Episode 10900\tAverage Score: 1.16\n",
      "Episode 11000\tAverage Score: 1.25\n",
      "Episode 11100\tAverage Score: 1.55\n",
      "Episode 11200\tAverage Score: 1.33\n",
      "Episode 11300\tAverage Score: 0.98\n",
      "Episode 11400\tAverage Score: 1.29\n",
      "Episode 11500\tAverage Score: 0.96\n",
      "Episode 11600\tAverage Score: 0.75\n",
      "Episode 11700\tAverage Score: 0.86\n",
      "Episode 11800\tAverage Score: 0.42\n",
      "Episode 11900\tAverage Score: 0.51\n",
      "Episode 12000\tAverage Score: 0.52\n",
      "Episode 12100\tAverage Score: 0.78\n",
      "Episode 12200\tAverage Score: 0.98\n",
      "Episode 12300\tAverage Score: 0.87\n",
      "Episode 12400\tAverage Score: 0.57\n",
      "Episode 12500\tAverage Score: 0.90\n",
      "Episode 12600\tAverage Score: 1.07\n",
      "Episode 12700\tAverage Score: 0.95\n",
      "Episode 12800\tAverage Score: 1.06\n",
      "Episode 12900\tAverage Score: 1.44\n",
      "Episode 13000\tAverage Score: 1.57\n",
      "Episode 13100\tAverage Score: 1.48\n",
      "Episode 13200\tAverage Score: 1.25\n",
      "Episode 13300\tAverage Score: 1.18\n",
      "Episode 13400\tAverage Score: 1.20\n",
      "Episode 13500\tAverage Score: 1.00\n",
      "Episode 13600\tAverage Score: 0.84\n",
      "Episode 13700\tAverage Score: 1.22\n",
      "Episode 13800\tAverage Score: 0.92\n",
      "Episode 13900\tAverage Score: 0.95\n",
      "Episode 14000\tAverage Score: 1.13\n",
      "Episode 14100\tAverage Score: 1.21\n",
      "Episode 14200\tAverage Score: 1.20\n",
      "Episode 14300\tAverage Score: 1.43\n",
      "Episode 14400\tAverage Score: 1.44\n",
      "Episode 14500\tAverage Score: 1.15\n",
      "Episode 14600\tAverage Score: 1.38\n",
      "Episode 14700\tAverage Score: 1.49\n",
      "Episode 14800\tAverage Score: 1.28\n",
      "Episode 14900\tAverage Score: 1.03\n",
      "Episode 15000\tAverage Score: 1.07\n",
      "Episode 15100\tAverage Score: 1.11\n",
      "Episode 15200\tAverage Score: 1.10\n",
      "Episode 15300\tAverage Score: 1.00\n",
      "Episode 15400\tAverage Score: 1.42\n",
      "Episode 15500\tAverage Score: 0.97\n",
      "Episode 15600\tAverage Score: 1.27\n",
      "Episode 15700\tAverage Score: 1.28\n",
      "Episode 15800\tAverage Score: 1.41\n",
      "Episode 15900\tAverage Score: 1.54\n",
      "Episode 16000\tAverage Score: 1.37\n",
      "Episode 16100\tAverage Score: 1.15\n",
      "Episode 16200\tAverage Score: 1.20\n",
      "Episode 16300\tAverage Score: 1.07\n",
      "Episode 16400\tAverage Score: 1.17\n",
      "Episode 16500\tAverage Score: 1.37\n",
      "Episode 16600\tAverage Score: 1.06\n",
      "Episode 16700\tAverage Score: 1.03\n",
      "Episode 16800\tAverage Score: 0.94\n",
      "Episode 16900\tAverage Score: 1.10\n",
      "Episode 17000\tAverage Score: 0.98\n",
      "Episode 17100\tAverage Score: 1.10\n",
      "Episode 17200\tAverage Score: 1.00\n",
      "Episode 17300\tAverage Score: 1.65\n",
      "Episode 17400\tAverage Score: 1.60\n",
      "Episode 17500\tAverage Score: 1.42\n",
      "Episode 17600\tAverage Score: 1.30\n",
      "Episode 17700\tAverage Score: 1.21\n",
      "Episode 17800\tAverage Score: 1.43\n",
      "Episode 17900\tAverage Score: 1.12\n",
      "Episode 18000\tAverage Score: 0.92\n",
      "Episode 18100\tAverage Score: 1.05\n",
      "Episode 18200\tAverage Score: 1.02\n",
      "Episode 18300\tAverage Score: 1.36\n",
      "Episode 18400\tAverage Score: 1.09\n",
      "Episode 18500\tAverage Score: 1.15\n",
      "Episode 18600\tAverage Score: 1.18\n",
      "Episode 18700\tAverage Score: 1.44\n",
      "Episode 18800\tAverage Score: 1.50\n",
      "Episode 18900\tAverage Score: 1.27\n",
      "Episode 19000\tAverage Score: 1.41\n",
      "Episode 19100\tAverage Score: 1.08\n",
      "Episode 19200\tAverage Score: 1.18\n",
      "Episode 19300\tAverage Score: 1.16\n",
      "Episode 19400\tAverage Score: 1.19\n",
      "Episode 19500\tAverage Score: 1.23\n",
      "Episode 19600\tAverage Score: 1.11\n",
      "Episode 19700\tAverage Score: 1.05\n",
      "Episode 19800\tAverage Score: 0.76\n",
      "Episode 19900\tAverage Score: 0.96\n",
      "Episode 20000\tAverage Score: 1.32\n"
     ]
    },
    {
     "data": {
      "image/png": "[encoded data removed]",
      "text/plain": [
       "<matplotlib.figure.Figure at 0x179ba370898>"
      ]
     },
     "metadata": {},
     "output_type": "display_data"
    },
    {
     "data": {
      "image/png": "[encoded data removed]",
      "text/plain": [
       "<matplotlib.figure.Figure at 0x179b5390128>"
      ]
     },
     "metadata": {},
     "output_type": "display_data"
    }
   ],
   "source": [
    "# train multi agent with D4PG\n",
    "multiagent=MAD4PG(24,2,32,BUFFER_SIZE = int(1e6),BATCH_SIZE = 64,GAMMA = 0.99,TAU = 1e-2,LR_ACTOR = 1e-4,LR_CRITIC = 1e-4,WEIGHT_DECAY = 0,UPDATE_EVERY = 6,N_step=7)\n",
    "scores,scores1,scores2 = train(check_pt_path='multiagents_d4pg',n_episodes=20000)\n",
    "\n",
    "# plot the scores\n",
    "fig = plt.figure()\n",
    "ax = fig.add_subplot(111)\n",
    "plt.plot(np.arange(len(scores)), scores)\n",
    "plt.ylabel('Score')\n",
    "plt.xlabel('Episode #')\n",
    "plt.show()\n",
    "\n",
    "fig = plt.figure()\n",
    "ax = fig.add_subplot(111)\n",
    "plt.plot(np.arange(len(scores1)), scores1)\n",
    "plt.plot(np.arange(len(scores2)), scores2)\n",
    "plt.ylabel('Score')\n",
    "plt.xlabel('Episode #')\n",
    "plt.legend(['agent1', 'agent2'], loc='lower right')\n",
    "plt.show()\n",
    "\n"
   ]
  },
  {
   "cell_type": "code",
   "execution_count": 3,
   "metadata": {},
   "outputs": [
    {
     "name": "stderr",
     "output_type": "stream",
     "text": [
      "INFO:unityagents:\n",
      "'Academy' started successfully!\n",
      "Unity Academy name: Academy\n",
      "        Number of Brains: 1\n",
      "        Number of External Brains : 1\n",
      "        Lesson number : 0\n",
      "        Reset Parameters :\n",
      "\t\t\n",
      "Unity brain name: TennisBrain\n",
      "        Number of Visual Observations (per agent): 0\n",
      "        Vector Observation space type: continuous\n",
      "        Vector Observation space size (per agent): 8\n",
      "        Number of stacked Vector Observation: 3\n",
      "        Vector Action space type: continuous\n",
      "        Vector Action space size (per agent): 2\n",
      "        Vector Action descriptions: , \n"
     ]
    },
    {
     "name": "stdout",
     "output_type": "stream",
     "text": [
      "Score (max over agents) from episode 1: 2.0000000298023224\n",
      "Score (max over agents) from episode 2: 0.0\n",
      "Score (max over agents) from episode 3: 2.600000038743019\n"
     ]
    }
   ],
   "source": [
    "#Watch a mad4pg trained Agent\n",
    "multiagent=MAD4PG(24,2,32,BUFFER_SIZE = int(1e6),BATCH_SIZE = 64,GAMMA = 0.99,TAU = 1e-2,LR_ACTOR = 1e-4,LR_CRITIC = 1e-4,WEIGHT_DECAY = 0,UPDATE_EVERY = 6,N_step=7)\n",
    "multiagent.mad4pg_agent[0].actor_local.load_state_dict(torch.load('multiagents_d4pg_actor1_last.pth'))\n",
    "multiagent.mad4pg_agent[1].actor_local.load_state_dict(torch.load('multiagents_d4pg_actor2_last.pth'))\n",
    "\n",
    "env = UnityEnvironment(file_name=\".\\Tennis_Windows_x86_64\\Tennis.exe\")\n",
    "# get the default brain\n",
    "brain_name = env.brain_names[0]\n",
    "brain = env.brains[brain_name]\n",
    "\n",
    "for i in range(1, 4):                                      # play game for 3 episodes\n",
    "    env_info = env.reset(train_mode=False)[brain_name]     # reset the environment    \n",
    "    states = env_info.vector_observations                  # get the current state (for each agent)\n",
    "    scores = np.zeros(2)                          # initialize the score (for each agent)\n",
    "    while True:\n",
    "        actions = multiagent.acts(states) # select an action (for each agent)\n",
    "        env_info = env.step(actions)[brain_name]           # send all actions to tne environment\n",
    "        next_states = env_info.vector_observations         # get next state (for each agent)\n",
    "        rewards = env_info.rewards                         # get reward (for each agent)\n",
    "        dones = env_info.local_done                        # see if episode finished\n",
    "        scores += env_info.rewards                         # update the score (for each agent)\n",
    "        states = next_states                               # roll over states to next time step\n",
    "        if np.any(dones):                                  # exit loop if episode finished\n",
    "            break\n",
    "    print('Score (max over agents) from episode {}: {}'.format(i, np.max(scores)))\n",
    "    \n",
    "env.close()"
   ]
  },
  {
   "cell_type": "code",
   "execution_count": null,
   "metadata": {
    "collapsed": true
   },
   "outputs": [],
   "source": []
  }
 ],
 "metadata": {
  "kernelspec": {
   "display_name": "Python 3",
   "language": "python",
   "name": "python3"
  },
  "language_info": {
   "codemirror_mode": {
    "name": "ipython",
    "version": 3
   },
   "file_extension": ".py",
   "mimetype": "text/x-python",
   "name": "python",
   "nbconvert_exporter": "python",
   "pygments_lexer": "ipython3",
   "version": "3.6.2"
  }
 },
 "nbformat": 4,
 "nbformat_minor": 2
}
